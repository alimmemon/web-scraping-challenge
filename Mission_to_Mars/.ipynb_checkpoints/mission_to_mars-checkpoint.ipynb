{
 "cells": [
  {
   "cell_type": "code",
   "execution_count": 30,
   "metadata": {},
   "outputs": [],
   "source": [
    "import pandas as pd\n",
    "import requests\n",
    "from splinter import Browser\n",
    "from selenium import webdriver\n",
    "import splinter\n",
    "from selenium.webdriver.chrome.options import Options\n",
    "import time\n",
    "from bs4 import BeautifulSoup\n",
    "from bs4 import BeautifulSoup as bs\n",
    "import pprint"
   ]
  },
  {
   "cell_type": "code",
   "execution_count": 2,
   "metadata": {},
   "outputs": [],
   "source": [
    "# URL of page to be scraped\n",
    "url= 'https://mars.nasa.gov/news/'\n",
    "\n",
    "executable_path = {'executable_path': '/usr/local/bin/chromedriver'}\n",
    "browser = Browser('chrome', **executable_path, headless=False)\n",
    "browser.visit(url)\n",
    "time.sleep(2)\n",
    "\n",
    "html= browser.html\n",
    "news_parser = BeautifulSoup(html, 'html.parser')"
   ]
  },
  {
   "cell_type": "code",
   "execution_count": 3,
   "metadata": {},
   "outputs": [
    {
     "data": {
      "text/plain": [
       "\"A NASA Wallops Flight Facility cargo plane transported more than two tons of equipment — including the rover's sample collection tubes — to Florida for this summer's liftoff.\""
      ]
     },
     "execution_count": 3,
     "metadata": {},
     "output_type": "execute_result"
    }
   ],
   "source": [
    "### NASA Mars News\n",
    "\n",
    "var= news_parser.find_all('div', class_='content_title')\n",
    "var2= news_parser.find_all('div', class_='article_teaser_body')\n",
    "\n",
    "\n",
    "artical_title=var[1].text\n",
    "# artical_title\n",
    "news_para= var2[0].text\n",
    "news_para\n"
   ]
  },
  {
   "cell_type": "code",
   "execution_count": 27,
   "metadata": {},
   "outputs": [
    {
     "data": {
      "text/plain": [
       "'/spaceimages/images/largesize/PIA19334_hires.jpg'"
      ]
     },
     "execution_count": 27,
     "metadata": {},
     "output_type": "execute_result"
    }
   ],
   "source": [
    "### JPL Mars Space Images - Featured Image retrieval process \n",
    "driver = webdriver.Chrome(\"/usr/local/bin/chromedriver\")\n",
    "url2= 'https://www.jpl.nasa.gov/spaceimages/?search=&category=Mars'\n",
    "executable_path = {'executable_path': '/usr/local/bin/chromedriver'}\n",
    "browser = Browser('chrome', **executable_path, headless=False)\n",
    "browser.visit(url2)\n",
    "\n",
    "time.sleep(1)\n",
    "full_image= browser.find_by_id('full_image')\n",
    "full_image.click()\n",
    "\n",
    "time.sleep(1)\n",
    "browser.is_element_present_by_text('more info', wait_time=1)\n",
    "more_info=browser.find_link_by_partial_text('more info')\n",
    "more_info.click()\n",
    "\n",
    "\n",
    "html=browser.html\n",
    "var4= BeautifulSoup(html, 'html.parser')\n",
    "\n",
    "\n",
    "main_image= var4.select_one('figure.lede a img').get('src')\n",
    "main_image\n",
    "\n",
    "\n"
   ]
  },
  {
   "cell_type": "code",
   "execution_count": 28,
   "metadata": {},
   "outputs": [
    {
     "name": "stdout",
     "output_type": "stream",
     "text": [
      "https://www.jpl.nasa.gov/spaceimages/images/largesize/PIA19334_hires.jpg\n"
     ]
    }
   ],
   "source": [
    "# Adds the image url to the featured_image var\n",
    "featured_image_url= f'https://www.jpl.nasa.gov{main_image}'\n",
    "print(featured_image_url)"
   ]
  },
  {
   "cell_type": "code",
   "execution_count": 85,
   "metadata": {},
   "outputs": [
    {
     "data": {
      "text/plain": [
       "b'InSight sol 526 (2020-05-20) low -94.0\\xc2\\xbaC (-137.2\\xc2\\xbaF) high -1.8\\xc2\\xbaC (28.8\\xc2\\xbaF)\\nwinds from the SW at 5.2 m/s (11.7 mph) gusting to 19.6 m/s (43.9 mph)\\npressure at 7.10 hPapic.twitter.com/dt22WVMj9u'"
      ]
     },
     "execution_count": 85,
     "metadata": {},
     "output_type": "execute_result"
    }
   ],
   "source": [
    "# ### Mars Weather looks and prints out the top tweet.\n",
    "\n",
    "url3 = \"https://twitter.com/MarsWxReport?lang=en\"\n",
    "html = urlopen(url3)\n",
    "soup = BeautifulSoup(html, \"html.parser\")\n",
    "\n",
    "# Gets the tweet\n",
    "tweets = soup.find_all(\"li\", attrs={\"class\":\"js-stream-item\"})\n",
    "\n",
    "# Writes tweet fetched in file\n",
    "for tweet in tweets[1]:\n",
    "    try:\n",
    "        if tweet.find('p',{\"class\":'tweet-text'}):\n",
    "            tweet_text = tweet.find('p',{\"class\":'tweet-text'}).text.encode('utf8').strip()\n",
    "    except: AttributeError\n",
    "f.close()\n",
    "\n",
    "mars_weather= tweet_text\n",
    "mars_weather"
   ]
  },
  {
   "cell_type": "code",
   "execution_count": null,
   "metadata": {},
   "outputs": [],
   "source": [
    "### Mars Facts\n",
    "website= 'https://space-facts.com/mars/'"
   ]
  },
  {
   "cell_type": "code",
   "execution_count": null,
   "metadata": {},
   "outputs": [],
   "source": [
    "### Mars Hemispheres\n",
    "website= 'https://astrogeology.usgs.gov/search/results?q=hemisphere+enhanced&k1=target&v1=Mars'\n",
    "hemisphere_image_urls = [\n",
    "    {\"title\": \"Valles Marineris Hemisphere\", \"img_url\": \"...\"},\n",
    "    {\"title\": \"Cerberus Hemisphere\", \"img_url\": \"...\"},\n",
    "    {\"title\": \"Schiaparelli Hemisphere\", \"img_url\": \"...\"},\n",
    "    {\"title\": \"Syrtis Major Hemisphere\", \"img_url\": \"...\"},\n",
    "]"
   ]
  },
  {
   "cell_type": "code",
   "execution_count": null,
   "metadata": {},
   "outputs": [],
   "source": [
    "\n"
   ]
  }
 ],
 "metadata": {
  "kernelspec": {
   "display_name": "Python 3",
   "language": "python",
   "name": "python3"
  },
  "language_info": {
   "codemirror_mode": {
    "name": "ipython",
    "version": 3
   },
   "file_extension": ".py",
   "mimetype": "text/x-python",
   "name": "python",
   "nbconvert_exporter": "python",
   "pygments_lexer": "ipython3",
   "version": "3.6.10"
  }
 },
 "nbformat": 4,
 "nbformat_minor": 4
}
